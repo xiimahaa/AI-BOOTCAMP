{
  "cells": [
    {
      "cell_type": "code",
      "execution_count": null,
      "id": "90620d81-c55a-4928-a259-15de6da118a3",
      "metadata": {
        "id": "90620d81-c55a-4928-a259-15de6da118a3"
      },
      "outputs": [],
      "source": [
        "#Maha Albash - Aljawhara Albawardi\n",
        "!pip install pandas"
      ]
    },
    {
      "cell_type": "code",
      "execution_count": null,
      "id": "06ef3c49-c1b4-4c37-923b-fbe7d1f3898e",
      "metadata": {
        "id": "06ef3c49-c1b4-4c37-923b-fbe7d1f3898e"
      },
      "outputs": [],
      "source": [
        "import pandas as pd"
      ]
    },
    {
      "cell_type": "code",
      "execution_count": null,
      "id": "bdf81e8a-0edd-4aa8-9d76-061155ca0db7",
      "metadata": {
        "id": "bdf81e8a-0edd-4aa8-9d76-061155ca0db7",
        "outputId": "1d4999c5-296a-4400-8af4-cf88608931c0"
      },
      "outputs": [
        {
          "data": {
            "text/plain": [
              "{'Name': ['Maha', 'Aljawhara', 'Noor', 'Sara'],\n",
              " 'Age': [20, 20, 22, 25],\n",
              " 'City': ['Italia', 'London', 'Paris', 'Saudi Arabia']}"
            ]
          },
          "execution_count": 25,
          "metadata": {},
          "output_type": "execute_result"
        }
      ],
      "source": [
        "dataset = {\n",
        "    \"Name\": [\"Maha\", \"Aljawhara\", \"Noor\",\"Sara\"],\n",
        "    \"Age\": [20, 20, 22,25],\n",
        "    \"City\": [\"Italia\", \"London\", \"Paris\",\"Saudi Arabia\"]\n",
        "}\n",
        "\n",
        "dataset"
      ]
    },
    {
      "cell_type": "code",
      "execution_count": null,
      "id": "8448bdd9-9527-4930-9ddd-04a5406bd630",
      "metadata": {
        "id": "8448bdd9-9527-4930-9ddd-04a5406bd630",
        "outputId": "520ce7f5-64b0-4148-9a09-235f074945dd"
      },
      "outputs": [
        {
          "name": "stdout",
          "output_type": "stream",
          "text": [
            "Pandas Data Frame:\n"
          ]
        },
        {
          "data": {
            "text/html": [
              "<div>\n",
              "<style scoped>\n",
              "    .dataframe tbody tr th:only-of-type {\n",
              "        vertical-align: middle;\n",
              "    }\n",
              "\n",
              "    .dataframe tbody tr th {\n",
              "        vertical-align: top;\n",
              "    }\n",
              "\n",
              "    .dataframe thead th {\n",
              "        text-align: right;\n",
              "    }\n",
              "</style>\n",
              "<table border=\"1\" class=\"dataframe\">\n",
              "  <thead>\n",
              "    <tr style=\"text-align: right;\">\n",
              "      <th></th>\n",
              "      <th>Name</th>\n",
              "      <th>Age</th>\n",
              "      <th>City</th>\n",
              "    </tr>\n",
              "  </thead>\n",
              "  <tbody>\n",
              "    <tr>\n",
              "      <th>0</th>\n",
              "      <td>Maha</td>\n",
              "      <td>20</td>\n",
              "      <td>Italia</td>\n",
              "    </tr>\n",
              "    <tr>\n",
              "      <th>1</th>\n",
              "      <td>Aljawhara</td>\n",
              "      <td>20</td>\n",
              "      <td>London</td>\n",
              "    </tr>\n",
              "    <tr>\n",
              "      <th>2</th>\n",
              "      <td>Noor</td>\n",
              "      <td>22</td>\n",
              "      <td>Paris</td>\n",
              "    </tr>\n",
              "    <tr>\n",
              "      <th>3</th>\n",
              "      <td>Sara</td>\n",
              "      <td>25</td>\n",
              "      <td>Saudi Arabia</td>\n",
              "    </tr>\n",
              "  </tbody>\n",
              "</table>\n",
              "</div>"
            ],
            "text/plain": [
              "        Name  Age          City\n",
              "0       Maha   20        Italia\n",
              "1  Aljawhara   20        London\n",
              "2       Noor   22         Paris\n",
              "3       Sara   25  Saudi Arabia"
            ]
          },
          "execution_count": 26,
          "metadata": {},
          "output_type": "execute_result"
        }
      ],
      "source": [
        "df = pd.DataFrame(dataset)\n",
        "print(\"Pandas Data Frame:\")\n",
        "df"
      ]
    },
    {
      "cell_type": "code",
      "execution_count": null,
      "id": "03ad8413-ede5-4a44-9348-19a349fd4fbd",
      "metadata": {
        "id": "03ad8413-ede5-4a44-9348-19a349fd4fbd",
        "outputId": "0053ec04-18ed-4628-ca5d-f610885a18e5"
      },
      "outputs": [
        {
          "data": {
            "text/html": [
              "<div>\n",
              "<style scoped>\n",
              "    .dataframe tbody tr th:only-of-type {\n",
              "        vertical-align: middle;\n",
              "    }\n",
              "\n",
              "    .dataframe tbody tr th {\n",
              "        vertical-align: top;\n",
              "    }\n",
              "\n",
              "    .dataframe thead th {\n",
              "        text-align: right;\n",
              "    }\n",
              "</style>\n",
              "<table border=\"1\" class=\"dataframe\">\n",
              "  <thead>\n",
              "    <tr style=\"text-align: right;\">\n",
              "      <th></th>\n",
              "      <th>Age</th>\n",
              "    </tr>\n",
              "  </thead>\n",
              "  <tbody>\n",
              "    <tr>\n",
              "      <th>0</th>\n",
              "      <td>20</td>\n",
              "    </tr>\n",
              "    <tr>\n",
              "      <th>1</th>\n",
              "      <td>20</td>\n",
              "    </tr>\n",
              "    <tr>\n",
              "      <th>2</th>\n",
              "      <td>22</td>\n",
              "    </tr>\n",
              "    <tr>\n",
              "      <th>3</th>\n",
              "      <td>25</td>\n",
              "    </tr>\n",
              "  </tbody>\n",
              "</table>\n",
              "</div>"
            ],
            "text/plain": [
              "   Age\n",
              "0   20\n",
              "1   20\n",
              "2   22\n",
              "3   25"
            ]
          },
          "execution_count": 27,
          "metadata": {},
          "output_type": "execute_result"
        }
      ],
      "source": [
        "dataages = pd.DataFrame(df[\"Age\"])\n",
        "dataages"
      ]
    },
    {
      "cell_type": "code",
      "execution_count": null,
      "id": "0a54f734-2dd3-442d-85bc-908d4386a631",
      "metadata": {
        "id": "0a54f734-2dd3-442d-85bc-908d4386a631",
        "outputId": "3023d560-0bcc-415b-aa45-2e463b2400d0"
      },
      "outputs": [
        {
          "data": {
            "text/html": [
              "<div>\n",
              "<style scoped>\n",
              "    .dataframe tbody tr th:only-of-type {\n",
              "        vertical-align: middle;\n",
              "    }\n",
              "\n",
              "    .dataframe tbody tr th {\n",
              "        vertical-align: top;\n",
              "    }\n",
              "\n",
              "    .dataframe thead th {\n",
              "        text-align: right;\n",
              "    }\n",
              "</style>\n",
              "<table border=\"1\" class=\"dataframe\">\n",
              "  <thead>\n",
              "    <tr style=\"text-align: right;\">\n",
              "      <th></th>\n",
              "      <th>Name</th>\n",
              "      <th>Age</th>\n",
              "      <th>City</th>\n",
              "    </tr>\n",
              "  </thead>\n",
              "  <tbody>\n",
              "    <tr>\n",
              "      <th>3</th>\n",
              "      <td>Sara</td>\n",
              "      <td>25</td>\n",
              "      <td>Saudi Arabia</td>\n",
              "    </tr>\n",
              "  </tbody>\n",
              "</table>\n",
              "</div>"
            ],
            "text/plain": [
              "   Name  Age          City\n",
              "3  Sara   25  Saudi Arabia"
            ]
          },
          "execution_count": 28,
          "metadata": {},
          "output_type": "execute_result"
        }
      ],
      "source": [
        "age_above_22 = pd.DataFrame(df[df[\"Age\"] > 22])\n",
        "age_above_22"
      ]
    },
    {
      "cell_type": "code",
      "execution_count": null,
      "id": "82676e48-b7e8-4cae-aa7a-fc80869e68dd",
      "metadata": {
        "id": "82676e48-b7e8-4cae-aa7a-fc80869e68dd",
        "outputId": "de2551a4-eb6a-4e20-bbbf-3a77ab9031ca"
      },
      "outputs": [
        {
          "name": "stdout",
          "output_type": "stream",
          "text": [
            "DataFrame with new column:\n",
            "\n"
          ]
        },
        {
          "data": {
            "text/html": [
              "<div>\n",
              "<style scoped>\n",
              "    .dataframe tbody tr th:only-of-type {\n",
              "        vertical-align: middle;\n",
              "    }\n",
              "\n",
              "    .dataframe tbody tr th {\n",
              "        vertical-align: top;\n",
              "    }\n",
              "\n",
              "    .dataframe thead th {\n",
              "        text-align: right;\n",
              "    }\n",
              "</style>\n",
              "<table border=\"1\" class=\"dataframe\">\n",
              "  <thead>\n",
              "    <tr style=\"text-align: right;\">\n",
              "      <th></th>\n",
              "      <th>Name</th>\n",
              "      <th>Age</th>\n",
              "      <th>City</th>\n",
              "      <th>career</th>\n",
              "    </tr>\n",
              "  </thead>\n",
              "  <tbody>\n",
              "    <tr>\n",
              "      <th>0</th>\n",
              "      <td>Maha</td>\n",
              "      <td>20</td>\n",
              "      <td>Italia</td>\n",
              "      <td>programmer</td>\n",
              "    </tr>\n",
              "    <tr>\n",
              "      <th>1</th>\n",
              "      <td>Aljawhara</td>\n",
              "      <td>20</td>\n",
              "      <td>London</td>\n",
              "      <td>programmer</td>\n",
              "    </tr>\n",
              "    <tr>\n",
              "      <th>2</th>\n",
              "      <td>Noor</td>\n",
              "      <td>22</td>\n",
              "      <td>Paris</td>\n",
              "      <td>doctor</td>\n",
              "    </tr>\n",
              "    <tr>\n",
              "      <th>3</th>\n",
              "      <td>Sara</td>\n",
              "      <td>25</td>\n",
              "      <td>Saudi Arabia</td>\n",
              "      <td>doctor</td>\n",
              "    </tr>\n",
              "  </tbody>\n",
              "</table>\n",
              "</div>"
            ],
            "text/plain": [
              "        Name  Age          City      career\n",
              "0       Maha   20        Italia  programmer\n",
              "1  Aljawhara   20        London  programmer\n",
              "2       Noor   22         Paris      doctor\n",
              "3       Sara   25  Saudi Arabia      doctor"
            ]
          },
          "execution_count": 29,
          "metadata": {},
          "output_type": "execute_result"
        }
      ],
      "source": [
        "df[\"career\"] = [\"programmer\", \"programmer\", \"doctor\",\"doctor\"]\n",
        "print(\"DataFrame with new column:\\n\")\n",
        "df"
      ]
    },
    {
      "cell_type": "code",
      "execution_count": null,
      "id": "05f205fd-4ccc-49d5-9f81-20ea3ab5e4ed",
      "metadata": {
        "id": "05f205fd-4ccc-49d5-9f81-20ea3ab5e4ed",
        "outputId": "6664639e-3c90-410f-9c3e-d9d6c11e4aff"
      },
      "outputs": [
        {
          "name": "stdout",
          "output_type": "stream",
          "text": [
            "DataFrame with modified Age:\n",
            "\n"
          ]
        },
        {
          "data": {
            "text/html": [
              "<div>\n",
              "<style scoped>\n",
              "    .dataframe tbody tr th:only-of-type {\n",
              "        vertical-align: middle;\n",
              "    }\n",
              "\n",
              "    .dataframe tbody tr th {\n",
              "        vertical-align: top;\n",
              "    }\n",
              "\n",
              "    .dataframe thead th {\n",
              "        text-align: right;\n",
              "    }\n",
              "</style>\n",
              "<table border=\"1\" class=\"dataframe\">\n",
              "  <thead>\n",
              "    <tr style=\"text-align: right;\">\n",
              "      <th></th>\n",
              "      <th>Name</th>\n",
              "      <th>Age</th>\n",
              "      <th>City</th>\n",
              "      <th>career</th>\n",
              "    </tr>\n",
              "  </thead>\n",
              "  <tbody>\n",
              "    <tr>\n",
              "      <th>0</th>\n",
              "      <td>Maha</td>\n",
              "      <td>21</td>\n",
              "      <td>Italia</td>\n",
              "      <td>programmer</td>\n",
              "    </tr>\n",
              "    <tr>\n",
              "      <th>1</th>\n",
              "      <td>Aljawhara</td>\n",
              "      <td>21</td>\n",
              "      <td>London</td>\n",
              "      <td>programmer</td>\n",
              "    </tr>\n",
              "    <tr>\n",
              "      <th>2</th>\n",
              "      <td>Noor</td>\n",
              "      <td>23</td>\n",
              "      <td>Paris</td>\n",
              "      <td>doctor</td>\n",
              "    </tr>\n",
              "    <tr>\n",
              "      <th>3</th>\n",
              "      <td>Sara</td>\n",
              "      <td>26</td>\n",
              "      <td>Saudi Arabia</td>\n",
              "      <td>doctor</td>\n",
              "    </tr>\n",
              "  </tbody>\n",
              "</table>\n",
              "</div>"
            ],
            "text/plain": [
              "        Name  Age          City      career\n",
              "0       Maha   21        Italia  programmer\n",
              "1  Aljawhara   21        London  programmer\n",
              "2       Noor   23         Paris      doctor\n",
              "3       Sara   26  Saudi Arabia      doctor"
            ]
          },
          "execution_count": 30,
          "metadata": {},
          "output_type": "execute_result"
        }
      ],
      "source": [
        "df[\"Age\"] = df[\"Age\"] + 1\n",
        "print(\"DataFrame with modified Age:\\n\")\n",
        "df"
      ]
    },
    {
      "cell_type": "code",
      "execution_count": null,
      "id": "0ac6c0f7-1dc2-440b-8725-bf44a831ce66",
      "metadata": {
        "id": "0ac6c0f7-1dc2-440b-8725-bf44a831ce66",
        "outputId": "f99509d2-f1dd-4942-b171-704f1fdb7730"
      },
      "outputs": [
        {
          "name": "stdout",
          "output_type": "stream",
          "text": [
            "DataFrame with missing values:\n",
            "\n"
          ]
        },
        {
          "data": {
            "text/html": [
              "<div>\n",
              "<style scoped>\n",
              "    .dataframe tbody tr th:only-of-type {\n",
              "        vertical-align: middle;\n",
              "    }\n",
              "\n",
              "    .dataframe tbody tr th {\n",
              "        vertical-align: top;\n",
              "    }\n",
              "\n",
              "    .dataframe thead th {\n",
              "        text-align: right;\n",
              "    }\n",
              "</style>\n",
              "<table border=\"1\" class=\"dataframe\">\n",
              "  <thead>\n",
              "    <tr style=\"text-align: right;\">\n",
              "      <th></th>\n",
              "      <th>Name</th>\n",
              "      <th>Age</th>\n",
              "      <th>City</th>\n",
              "    </tr>\n",
              "  </thead>\n",
              "  <tbody>\n",
              "    <tr>\n",
              "      <th>0</th>\n",
              "      <td>Hessa</td>\n",
              "      <td>15.0</td>\n",
              "      <td>Dubai</td>\n",
              "    </tr>\n",
              "    <tr>\n",
              "      <th>1</th>\n",
              "      <td>Reema</td>\n",
              "      <td>NaN</td>\n",
              "      <td>Qatar</td>\n",
              "    </tr>\n",
              "    <tr>\n",
              "      <th>2</th>\n",
              "      <td>None</td>\n",
              "      <td>10.0</td>\n",
              "      <td>None</td>\n",
              "    </tr>\n",
              "  </tbody>\n",
              "</table>\n",
              "</div>"
            ],
            "text/plain": [
              "    Name   Age   City\n",
              "0  Hessa  15.0  Dubai\n",
              "1  Reema   NaN  Qatar\n",
              "2   None  10.0   None"
            ]
          },
          "execution_count": 31,
          "metadata": {},
          "output_type": "execute_result"
        }
      ],
      "source": [
        "data_with_nan = {\n",
        "    \"Name\": [\"Hessa\", \"Reema\", None],\n",
        "    \"Age\": [15, None, 10],\n",
        "    \"City\": [\"Dubai\", \"Qatar\", None]\n",
        "}\n",
        "df_nan = pd.DataFrame(data_with_nan)\n",
        "print(\"DataFrame with missing values:\\n\")\n",
        "df_nan"
      ]
    },
    {
      "cell_type": "code",
      "execution_count": null,
      "id": "11667b25-cf3c-4091-893d-42c438b095d6",
      "metadata": {
        "id": "11667b25-cf3c-4091-893d-42c438b095d6",
        "outputId": "3507bf63-b1fc-4ef2-8f8e-05c8cf3a1fb9"
      },
      "outputs": [
        {
          "name": "stdout",
          "output_type": "stream",
          "text": [
            "DataFrame with filled missing values:\n",
            "\n"
          ]
        },
        {
          "data": {
            "text/html": [
              "<div>\n",
              "<style scoped>\n",
              "    .dataframe tbody tr th:only-of-type {\n",
              "        vertical-align: middle;\n",
              "    }\n",
              "\n",
              "    .dataframe tbody tr th {\n",
              "        vertical-align: top;\n",
              "    }\n",
              "\n",
              "    .dataframe thead th {\n",
              "        text-align: right;\n",
              "    }\n",
              "</style>\n",
              "<table border=\"1\" class=\"dataframe\">\n",
              "  <thead>\n",
              "    <tr style=\"text-align: right;\">\n",
              "      <th></th>\n",
              "      <th>Name</th>\n",
              "      <th>Age</th>\n",
              "      <th>City</th>\n",
              "    </tr>\n",
              "  </thead>\n",
              "  <tbody>\n",
              "    <tr>\n",
              "      <th>0</th>\n",
              "      <td>Hessa</td>\n",
              "      <td>15.0</td>\n",
              "      <td>Dubai</td>\n",
              "    </tr>\n",
              "    <tr>\n",
              "      <th>1</th>\n",
              "      <td>Reema</td>\n",
              "      <td>Huda</td>\n",
              "      <td>Qatar</td>\n",
              "    </tr>\n",
              "    <tr>\n",
              "      <th>2</th>\n",
              "      <td>Huda</td>\n",
              "      <td>10.0</td>\n",
              "      <td>Huda</td>\n",
              "    </tr>\n",
              "  </tbody>\n",
              "</table>\n",
              "</div>"
            ],
            "text/plain": [
              "    Name   Age   City\n",
              "0  Hessa  15.0  Dubai\n",
              "1  Reema  Huda  Qatar\n",
              "2   Huda  10.0   Huda"
            ]
          },
          "execution_count": 32,
          "metadata": {},
          "output_type": "execute_result"
        }
      ],
      "source": [
        "df_filled = df_nan.fillna(\"Huda\")\n",
        "print(\"DataFrame with filled missing values:\\n\")\n",
        "df_filled"
      ]
    },
    {
      "cell_type": "code",
      "execution_count": null,
      "id": "475408c9-f935-4f67-aa7a-024d3c69ec99",
      "metadata": {
        "id": "475408c9-f935-4f67-aa7a-024d3c69ec99",
        "outputId": "a3664ee5-21fa-42c8-e24d-41d21c738773"
      },
      "outputs": [
        {
          "data": {
            "text/html": [
              "<div>\n",
              "<style scoped>\n",
              "    .dataframe tbody tr th:only-of-type {\n",
              "        vertical-align: middle;\n",
              "    }\n",
              "\n",
              "    .dataframe tbody tr th {\n",
              "        vertical-align: top;\n",
              "    }\n",
              "\n",
              "    .dataframe thead th {\n",
              "        text-align: right;\n",
              "    }\n",
              "</style>\n",
              "<table border=\"1\" class=\"dataframe\">\n",
              "  <thead>\n",
              "    <tr style=\"text-align: right;\">\n",
              "      <th></th>\n",
              "      <th>Feature1</th>\n",
              "      <th>Feature2</th>\n",
              "    </tr>\n",
              "  </thead>\n",
              "  <tbody>\n",
              "    <tr>\n",
              "      <th>0</th>\n",
              "      <td>6</td>\n",
              "      <td>3</td>\n",
              "    </tr>\n",
              "    <tr>\n",
              "      <th>1</th>\n",
              "      <td>7</td>\n",
              "      <td>44</td>\n",
              "    </tr>\n",
              "    <tr>\n",
              "      <th>2</th>\n",
              "      <td>8</td>\n",
              "      <td>55</td>\n",
              "    </tr>\n",
              "    <tr>\n",
              "      <th>3</th>\n",
              "      <td>9</td>\n",
              "      <td>7</td>\n",
              "    </tr>\n",
              "    <tr>\n",
              "      <th>4</th>\n",
              "      <td>50</td>\n",
              "      <td>23</td>\n",
              "    </tr>\n",
              "  </tbody>\n",
              "</table>\n",
              "</div>"
            ],
            "text/plain": [
              "   Feature1  Feature2\n",
              "0         6         3\n",
              "1         7        44\n",
              "2         8        55\n",
              "3         9         7\n",
              "4        50        23"
            ]
          },
          "execution_count": 33,
          "metadata": {},
          "output_type": "execute_result"
        }
      ],
      "source": [
        "import pandas as pd\n",
        "data = {\n",
        "    \"Feature1\": [6, 7, 8, 9, 50],\n",
        "    \"Feature2\": [3, 44, 55, 7, 23]\n",
        "}\n",
        "df_stats = pd.DataFrame(data)\n",
        "df_stats"
      ]
    },
    {
      "cell_type": "code",
      "execution_count": null,
      "id": "8f0d4a5b-6321-46c2-8654-f361d91fc50b",
      "metadata": {
        "id": "8f0d4a5b-6321-46c2-8654-f361d91fc50b",
        "outputId": "e2dbd0dc-c0b2-4b6b-d519-08868544dbd4"
      },
      "outputs": [
        {
          "name": "stdout",
          "output_type": "stream",
          "text": [
            "Standard Deviation of each column:\n",
            "\n"
          ]
        },
        {
          "data": {
            "text/plain": [
              "Feature1    19.039433\n",
              "Feature2    22.711231\n",
              "dtype: float64"
            ]
          },
          "execution_count": 34,
          "metadata": {},
          "output_type": "execute_result"
        }
      ],
      "source": [
        "std_dev = df_stats.std()\n",
        "print(\"Standard Deviation of each column:\\n\")\n",
        "std_dev"
      ]
    },
    {
      "cell_type": "code",
      "execution_count": 12,
      "id": "41a90306-761f-4105-9e1e-40211c51f123",
      "metadata": {
        "colab": {
          "base_uri": "https://localhost:8080/"
        },
        "id": "41a90306-761f-4105-9e1e-40211c51f123",
        "outputId": "39e60004-138b-46a7-eb45-26a68f0ff1a0"
      },
      "outputs": [
        {
          "output_type": "stream",
          "name": "stdout",
          "text": [
            "Requirement already satisfied: numpy in /usr/local/lib/python3.10/dist-packages (1.25.2)\n"
          ]
        }
      ],
      "source": [
        "!pip install numpy"
      ]
    },
    {
      "cell_type": "code",
      "source": [
        "import numpy as np"
      ],
      "metadata": {
        "id": "avSYnykPVK08"
      },
      "id": "avSYnykPVK08",
      "execution_count": 13,
      "outputs": []
    },
    {
      "cell_type": "code",
      "execution_count": null,
      "id": "5c3ace24-3fa3-493a-ba17-3b8b7ba19abb",
      "metadata": {
        "id": "5c3ace24-3fa3-493a-ba17-3b8b7ba19abb",
        "outputId": "3c3e4aee-98ee-40e0-f139-3f806bb25ad6"
      },
      "outputs": [
        {
          "name": "stdout",
          "output_type": "stream",
          "text": [
            "1D Array: [1 2 3 4 5]\n"
          ]
        }
      ],
      "source": [
        "array_1D = np.array([1, 2, 3, 4, 5])\n",
        "print(\"1D Array:\", array_1D)"
      ]
    },
    {
      "cell_type": "code",
      "execution_count": null,
      "id": "e72887d5-da2c-43fd-8de1-db31632ab0c5",
      "metadata": {
        "id": "e72887d5-da2c-43fd-8de1-db31632ab0c5",
        "outputId": "d37a54da-e66b-4583-ec80-903bf2073187"
      },
      "outputs": [
        {
          "name": "stdout",
          "output_type": "stream",
          "text": [
            "2D Array (Matrix):\n",
            " [[1 2 3]\n",
            " [4 5 6]\n",
            " [7 8 9]]\n"
          ]
        }
      ],
      "source": [
        "array_2D = np.array([[1, 2, 3], [4, 5, 6], [7, 8, 9]])\n",
        "print(\"2D Array (Matrix):\\n\", array_2D)"
      ]
    },
    {
      "cell_type": "code",
      "execution_count": 16,
      "id": "9ac53916-0248-422d-a25b-a15b41f6079e",
      "metadata": {
        "colab": {
          "base_uri": "https://localhost:8080/"
        },
        "id": "9ac53916-0248-422d-a25b-a15b41f6079e",
        "outputId": "7019c707-73ce-4cf6-c591-75d02ef7b02b"
      },
      "outputs": [
        {
          "output_type": "stream",
          "name": "stdout",
          "text": [
            "3D Array:\n",
            " [[[ 1  2  3]\n",
            "  [ 4  5  6]\n",
            "  [ 7  8  9]]\n",
            "\n",
            " [[10 11 12]\n",
            "  [13 14 15]\n",
            "  [16 17 18]]]\n"
          ]
        }
      ],
      "source": [
        "array_3D = np.array([[[1, 2, 3], [4, 5, 6], [7, 8, 9]],\n",
        "                     [[10, 11, 12], [13, 14, 15], [16, 17, 18]]])\n",
        "print(\"3D Array:\\n\", array_3D)"
      ]
    },
    {
      "cell_type": "code",
      "execution_count": 28,
      "id": "a89ea526-7922-454f-bed6-1e31a2debabd",
      "metadata": {
        "colab": {
          "base_uri": "https://localhost:8080/"
        },
        "id": "a89ea526-7922-454f-bed6-1e31a2debabd",
        "outputId": "8f1a191a-1637-42be-c4d2-fabaafcc647b"
      },
      "outputs": [
        {
          "output_type": "stream",
          "name": "stdout",
          "text": [
            "1D Array: [1 2 3 4 5]\n",
            "Sum of 1D Array: 15\n",
            "Mean of 1D Array: 3.0\n",
            "Squared 1D Array: [ 1  4  9 16 25]\n"
          ]
        }
      ],
      "source": [
        "print(\"1D Array:\", array_1D)\n",
        "sum_array = np.sum(array_1D)\n",
        "print(\"Sum of 1D Array:\", sum_array)\n",
        "mean_array = np.mean(array_1D)\n",
        "print(\"Mean of 1D Array:\", mean_array)\n",
        "squared_array = np.square(array_1D)\n",
        "print(\"Squared 1D Array:\", squared_array)"
      ]
    },
    {
      "cell_type": "code",
      "source": [
        "(5,)"
      ],
      "metadata": {
        "colab": {
          "base_uri": "https://localhost:8080/"
        },
        "id": "nRvEk-4RXEVC",
        "outputId": "9d548390-2c85-43f8-d73d-04e344ee469d"
      },
      "id": "nRvEk-4RXEVC",
      "execution_count": 24,
      "outputs": [
        {
          "output_type": "execute_result",
          "data": {
            "text/plain": [
              "(5,)"
            ]
          },
          "metadata": {},
          "execution_count": 24
        }
      ]
    },
    {
      "cell_type": "code",
      "source": [
        "reshaped_array = array_1D.reshape((5, 1))\n",
        "print(\"Reshaped Array (1D to 2D):\\n\", reshaped_array)"
      ],
      "metadata": {
        "colab": {
          "base_uri": "https://localhost:8080/"
        },
        "id": "HxzJEtRiUR4w",
        "outputId": "8f5f2fdf-5ef4-408d-f5fc-98c73800b4fe"
      },
      "id": "HxzJEtRiUR4w",
      "execution_count": 26,
      "outputs": [
        {
          "output_type": "stream",
          "name": "stdout",
          "text": [
            "Reshaped Array (1D to 2D):\n",
            " [[1]\n",
            " [2]\n",
            " [3]\n",
            " [4]\n",
            " [5]]\n"
          ]
        }
      ]
    },
    {
      "cell_type": "code",
      "source": [
        "transposed_matrix = np.transpose(array_2D)\n",
        "print(\"2D Array (Matrix):\\n\", array_2D)\n",
        "print(\"Transposed Matrix:\\n\", transposed_matrix)"
      ],
      "metadata": {
        "colab": {
          "base_uri": "https://localhost:8080/"
        },
        "id": "pf6jAXA0Ug3U",
        "outputId": "e1c35a30-a252-4fb2-accd-1fd2f6b18520"
      },
      "id": "pf6jAXA0Ug3U",
      "execution_count": 14,
      "outputs": [
        {
          "output_type": "stream",
          "name": "stdout",
          "text": [
            "2D Array (Matrix):\n",
            " [[1 2 3]\n",
            " [4 5 6]\n",
            " [7 8 9]]\n",
            "Transposed Matrix:\n",
            " [[1 4 7]\n",
            " [2 5 8]\n",
            " [3 6 9]]\n"
          ]
        }
      ]
    },
    {
      "cell_type": "code",
      "source": [
        "matrix_a = np.array([[1, 2], [3, 4]])\n",
        "matrix_b = np.array([[5, 6], [7, 8]])\n",
        "print(\"matrix_a:\\n\", matrix_a)\n",
        "print(\"matrix_b:\\n\", matrix_b)\n",
        "matrix_product = np.dot(matrix_a, matrix_b)\n",
        "print(\"Matrix Product:\\n\", matrix_product)"
      ],
      "metadata": {
        "colab": {
          "base_uri": "https://localhost:8080/"
        },
        "id": "InwHE2oWVWRF",
        "outputId": "450a4188-5e8e-4609-b777-652812aee09f"
      },
      "id": "InwHE2oWVWRF",
      "execution_count": 25,
      "outputs": [
        {
          "output_type": "stream",
          "name": "stdout",
          "text": [
            "matrix_a:\n",
            " [[1 2]\n",
            " [3 4]]\n",
            "matrix_b:\n",
            " [[5 6]\n",
            " [7 8]]\n",
            "Matrix Product:\n",
            " [[19 22]\n",
            " [43 50]]\n"
          ]
        }
      ]
    },
    {
      "cell_type": "code",
      "source": [
        "std_dev = np.std(array_1D)\n",
        "print(\"Standard Deviation of 1D Array:\", std_dev)\n",
        "random_numbers = np.random.randn(3, 3)\n",
        "print(\"Random Numbers:\\n\", random_numbers)\n"
      ],
      "metadata": {
        "colab": {
          "base_uri": "https://localhost:8080/"
        },
        "id": "u70_zVj0V6WO",
        "outputId": "22d1ee60-d893-43a0-b7dc-ef608dc826a9"
      },
      "id": "u70_zVj0V6WO",
      "execution_count": 18,
      "outputs": [
        {
          "output_type": "stream",
          "name": "stdout",
          "text": [
            "Standard Deviation of 1D Array: 1.4142135623730951\n",
            "Random Numbers:\n",
            " [[ 0.18443956  2.01339098 -1.04015598]\n",
            " [ 1.67428889  1.01483042 -1.45163103]\n",
            " [ 1.10748154  0.23423561  1.48748159]]\n"
          ]
        }
      ]
    },
    {
      "cell_type": "code",
      "source": [
        "dataset = np.random.rand(10, 3)\n",
        "print(\"Dataset:\\n\", dataset)\n"
      ],
      "metadata": {
        "colab": {
          "base_uri": "https://localhost:8080/"
        },
        "id": "-sZ5T7ogWJsH",
        "outputId": "214ab526-a011-4d23-dace-b766913763ca"
      },
      "id": "-sZ5T7ogWJsH",
      "execution_count": 19,
      "outputs": [
        {
          "output_type": "stream",
          "name": "stdout",
          "text": [
            "Dataset:\n",
            " [[0.20249533 0.58328128 0.42336636]\n",
            " [0.27722764 0.41206356 0.95922049]\n",
            " [0.45466626 0.51437599 0.73323427]\n",
            " [0.56758471 0.38465595 0.62295811]\n",
            " [0.46539617 0.04956059 0.3790634 ]\n",
            " [0.47107955 0.6319887  0.62210616]\n",
            " [0.23968812 0.78056165 0.49022049]\n",
            " [0.69725805 0.14208614 0.53151225]\n",
            " [0.73716527 0.78803356 0.14137247]\n",
            " [0.94222672 0.07900168 0.98771114]]\n"
          ]
        }
      ]
    },
    {
      "cell_type": "code",
      "source": [
        "dataset [0]"
      ],
      "metadata": {
        "colab": {
          "base_uri": "https://localhost:8080/"
        },
        "id": "bzrbI94ZWe0T",
        "outputId": "1707be05-3a28-4041-aa0c-8342f961dd9b"
      },
      "id": "bzrbI94ZWe0T",
      "execution_count": 20,
      "outputs": [
        {
          "output_type": "execute_result",
          "data": {
            "text/plain": [
              "array([0.20249533, 0.58328128, 0.42336636])"
            ]
          },
          "metadata": {},
          "execution_count": 20
        }
      ]
    },
    {
      "cell_type": "code",
      "source": [
        "dataset [:,0]"
      ],
      "metadata": {
        "colab": {
          "base_uri": "https://localhost:8080/"
        },
        "id": "5b6jjvniWjCB",
        "outputId": "7043b2ed-5934-4447-8683-7ae825f12ede"
      },
      "id": "5b6jjvniWjCB",
      "execution_count": 21,
      "outputs": [
        {
          "output_type": "execute_result",
          "data": {
            "text/plain": [
              "array([0.20249533, 0.27722764, 0.45466626, 0.56758471, 0.46539617,\n",
              "       0.47107955, 0.23968812, 0.69725805, 0.73716527, 0.94222672])"
            ]
          },
          "metadata": {},
          "execution_count": 21
        }
      ]
    },
    {
      "cell_type": "code",
      "source": [
        "feature_column = dataset[:,1]\n",
        "print(\"Selected Feature Column:\\n\", feature_column)"
      ],
      "metadata": {
        "colab": {
          "base_uri": "https://localhost:8080/"
        },
        "id": "_rVaPrd2WobT",
        "outputId": "141efb08-9f93-493e-b220-a4b3799214ee"
      },
      "id": "_rVaPrd2WobT",
      "execution_count": 23,
      "outputs": [
        {
          "output_type": "stream",
          "name": "stdout",
          "text": [
            "Selected Feature Column:\n",
            " [0.58328128 0.41206356 0.51437599 0.38465595 0.04956059 0.6319887\n",
            " 0.78056165 0.14208614 0.78803356 0.07900168]\n"
          ]
        }
      ]
    },
    {
      "cell_type": "code",
      "source": [
        "train_size = int(0.8 * dataset.shape[0])\n",
        "train_set, test_set = dataset[:train_size], dataset[train_size:]\n",
        "print(\"Training Set:\\n\", train_set)\n",
        "print(\"Test Set:\\n\", test_set)"
      ],
      "metadata": {
        "colab": {
          "base_uri": "https://localhost:8080/"
        },
        "id": "rh9iZ8PXW0W4",
        "outputId": "b28c04d3-35a9-45e5-88a6-7bdc261cf076"
      },
      "id": "rh9iZ8PXW0W4",
      "execution_count": 22,
      "outputs": [
        {
          "output_type": "stream",
          "name": "stdout",
          "text": [
            "Training Set:\n",
            " [[0.20249533 0.58328128 0.42336636]\n",
            " [0.27722764 0.41206356 0.95922049]\n",
            " [0.45466626 0.51437599 0.73323427]\n",
            " [0.56758471 0.38465595 0.62295811]\n",
            " [0.46539617 0.04956059 0.3790634 ]\n",
            " [0.47107955 0.6319887  0.62210616]\n",
            " [0.23968812 0.78056165 0.49022049]\n",
            " [0.69725805 0.14208614 0.53151225]]\n",
            "Test Set:\n",
            " [[0.73716527 0.78803356 0.14137247]\n",
            " [0.94222672 0.07900168 0.98771114]]\n"
          ]
        }
      ]
    }
  ],
  "metadata": {
    "kernelspec": {
      "display_name": "Python 3 (ipykernel)",
      "language": "python",
      "name": "python3"
    },
    "language_info": {
      "codemirror_mode": {
        "name": "ipython",
        "version": 3
      },
      "file_extension": ".py",
      "mimetype": "text/x-python",
      "name": "python",
      "nbconvert_exporter": "python",
      "pygments_lexer": "ipython3",
      "version": "3.11.7"
    },
    "colab": {
      "provenance": []
    }
  },
  "nbformat": 4,
  "nbformat_minor": 5
}